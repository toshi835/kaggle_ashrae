{
 "cells": [
  {
   "cell_type": "code",
   "execution_count": 1,
   "metadata": {
    "_cell_guid": "b1076dfc-b9ad-4769-8c92-a6c4dae69d19",
    "_uuid": "8f2839f25d086af736a60e9eeb907d3b93b6e0e5"
   },
   "outputs": [],
   "source": [
    "import numpy as np \n",
    "import pandas as pd \n",
    "import matplotlib.pyplot as plt\n",
    "import seaborn as sns\n",
    "import feather\n",
    "import datetime\n",
    "\n",
    "from sklearn.metrics import mean_squared_error\n",
    "from sklearn.model_selection import GroupKFold\n",
    "from sklearn.preprocessing import LabelEncoder\n",
    "from tqdm import tqdm_notebook\n",
    "import os\n",
    "import gc\n",
    "import lightgbm as lgb"
   ]
  },
  {
   "cell_type": "code",
   "execution_count": 2,
   "metadata": {},
   "outputs": [],
   "source": [
    "#Based on this great kernel https://www.kaggle.com/arjanso/reducing-dataframe-memory-size-by-65\n",
    "def reduce_mem(df):\n",
    "    start_mem_usg = df.memory_usage().sum() / 1024**2 \n",
    "    print(\"Memory usage of properties dataframe is :\",start_mem_usg,\" MB\")\n",
    "    NAlist = [] # Keeps track of columns that have missing values filled in. \n",
    "    for col in df.columns:\n",
    "        if df[col].dtype != object and col !=\"timestamp\":  # Exclude strings        \n",
    "            # Print current column type\n",
    "            #print(\"******************************\")\n",
    "            #print(\"Column: \",col)\n",
    "            #print(\"dtype before: \",df[col].dtype)      \n",
    "            # make variables for Int, max and min\n",
    "            IsInt = False\n",
    "            mx = df[col].max()\n",
    "            mn = df[col].min()\n",
    "            # Integer does not support NA, therefore, NA needs to be filled\n",
    "            if not np.isfinite(df[col]).all(): \n",
    "                NAlist.append(col)\n",
    "                df[col].fillna(mn-1,inplace=True)  \n",
    "                   \n",
    "            # test if column can be converted to an integer\n",
    "            asint = df[col].fillna(0).astype(np.int64)\n",
    "            result = (df[col] - asint)\n",
    "            result = result.sum()\n",
    "            if result > -0.01 and result < 0.01:\n",
    "                IsInt = True            \n",
    "            # Make Integer/unsigned Integer datatypes\n",
    "            if IsInt:\n",
    "                if mn >= 0:\n",
    "                    if mx < 255:\n",
    "                        df[col] = df[col].astype(np.uint8)\n",
    "                    elif mx < 65535:\n",
    "                        df[col] = df[col].astype(np.uint16)\n",
    "                    elif mx < 4294967295:\n",
    "                        df[col] = df[col].astype(np.uint32)\n",
    "                    else:\n",
    "                        df[col] = df[col].astype(np.uint64)\n",
    "                else:\n",
    "                    if mn > np.iinfo(np.int8).min and mx < np.iinfo(np.int8).max:\n",
    "                        df[col] = df[col].astype(np.int8)\n",
    "                    elif mn > np.iinfo(np.int16).min and mx < np.iinfo(np.int16).max:\n",
    "                        df[col] = df[col].astype(np.int16)\n",
    "                    elif mn > np.iinfo(np.int32).min and mx < np.iinfo(np.int32).max:\n",
    "                        df[col] = df[col].astype(np.int32)\n",
    "                    elif mn > np.iinfo(np.int64).min and mx < np.iinfo(np.int64).max:\n",
    "                        df[col] = df[col].astype(np.int64)    \n",
    "            # Make float datatypes 32 bit\n",
    "            else:\n",
    "                df[col] = df[col].astype(np.float32)\n",
    "            #print(\"dtype after: \",df[col].dtype)\n",
    "    # Print final result\n",
    "    mem_usg = df.memory_usage().sum() / 1024**2 \n",
    "    print(\"MEMORY USAGE AFTER COMPLETION: Memory usage is: \",mem_usg,\" MB\")\n",
    "    print(\"This is \",100*mem_usg/start_mem_usg,\"% of the initial size\")\n",
    "    return df, NAlist"
   ]
  },
  {
   "cell_type": "code",
   "execution_count": 3,
   "metadata": {},
   "outputs": [],
   "source": [
    "from pandas.api.types import is_datetime64_any_dtype as is_datetime\n",
    "from pandas.api.types import is_categorical_dtype\n",
    "\n",
    "def reduce_mem_usage(df, use_float16=False):\n",
    "    \"\"\"\n",
    "    Iterate through all the columns of a dataframe and modify the data type to reduce memory usage.        \n",
    "    \"\"\"\n",
    "    \n",
    "    start_mem = df.memory_usage().sum() / 1024**2\n",
    "    print(\"Memory usage of dataframe is {:.2f} MB\".format(start_mem))\n",
    "    \n",
    "    for col in df.columns:\n",
    "        if is_datetime(df[col]) or is_categorical_dtype(df[col]):\n",
    "            continue\n",
    "        col_type = df[col].dtype\n",
    "        \n",
    "        if col_type != object:\n",
    "            c_min = df[col].min()\n",
    "            c_max = df[col].max()\n",
    "            if str(col_type)[:3] == \"int\":\n",
    "                if c_min > np.iinfo(np.int8).min and c_max < np.iinfo(np.int8).max:\n",
    "                    df[col] = df[col].astype(np.int8)\n",
    "                elif c_min > np.iinfo(np.int16).min and c_max < np.iinfo(np.int16).max:\n",
    "                    df[col] = df[col].astype(np.int16)\n",
    "                elif c_min > np.iinfo(np.int32).min and c_max < np.iinfo(np.int32).max:\n",
    "                    df[col] = df[col].astype(np.int32)\n",
    "                elif c_min > np.iinfo(np.int64).min and c_max < np.iinfo(np.int64).max:\n",
    "                    df[col] = df[col].astype(np.int64)  \n",
    "            else:\n",
    "                if use_float16 and c_min > np.finfo(np.float16).min and c_max < np.finfo(np.float16).max:\n",
    "                    df[col] = df[col].astype(np.float16)\n",
    "                elif c_min > np.finfo(np.float32).min and c_max < np.finfo(np.float32).max:\n",
    "                    df[col] = df[col].astype(np.float32)\n",
    "                else:\n",
    "                    df[col] = df[col].astype(np.float64)\n",
    "        else:\n",
    "            df[col] = df[col].astype(\"category\")\n",
    "\n",
    "    end_mem = df.memory_usage().sum() / 1024**2\n",
    "    print(\"Memory usage after optimization is: {:.2f} MB\".format(end_mem))\n",
    "    print(\"Decreased by {:.1f}%\".format(100 * (start_mem - end_mem) / start_mem))\n",
    "    \n",
    "    return df"
   ]
  },
  {
   "cell_type": "markdown",
   "metadata": {},
   "source": [
    "# Data"
   ]
  },
  {
   "cell_type": "code",
   "execution_count": 4,
   "metadata": {},
   "outputs": [
    {
     "data": {
      "text/plain": [
       "['__notebook__.ipynb',\n",
       " 'submission_leak.csv',\n",
       " '__results__.html',\n",
       " '__output__.json',\n",
       " '__results___files',\n",
       " 'custom.css',\n",
       " 'leak.csv']"
      ]
     },
     "execution_count": 4,
     "metadata": {},
     "output_type": "execute_result"
    }
   ],
   "source": [
    "directory = '../input/ashrae-prepare-by-feather'\n",
    "os.listdir(\"../input/ashrae-leak-data\")"
   ]
  },
  {
   "cell_type": "code",
   "execution_count": 5,
   "metadata": {
    "_cell_guid": "79c7e3d0-c299-4dcb-8224-4455121ee9b0",
    "_uuid": "d629ff2d2480ee46fbb7e2d37f6b5fab8052498a"
   },
   "outputs": [
    {
     "name": "stdout",
     "output_type": "stream",
     "text": [
      "df_train_shape : (20216100, 4)\n",
      "CPU times: user 160 ms, sys: 464 ms, total: 624 ms\n",
      "Wall time: 749 ms\n"
     ]
    },
    {
     "name": "stderr",
     "output_type": "stream",
     "text": [
      "/opt/conda/lib/python3.6/site-packages/pyarrow/pandas_compat.py:751: FutureWarning: .labels was deprecated in version 0.24.0. Use .codes instead.\n",
      "  labels, = index.labels\n"
     ]
    }
   ],
   "source": [
    "%%time\n",
    "df_train = feather.read_dataframe(directory+'/train.feather')\n",
    "weather_train = feather.read_dataframe(directory+'/weather_train.feather')\n",
    "building_metadata = feather.read_dataframe(directory+'/building_metadata.feather')\n",
    "\n",
    "print('df_train_shape :' , df_train.shape)\n",
    "#print('weather_train_shape :' , weather_train.shape)\n",
    "#print('building_metadata_shape :' , building_metadata.shape)"
   ]
  },
  {
   "cell_type": "code",
   "execution_count": 6,
   "metadata": {},
   "outputs": [],
   "source": [
    "#leak data site 0,1,2\n",
    "#leak_df=pd.read_csv(\"../input/ashrae-leak-data/leak.csv\")\n",
    "#leak_df,_=reduce_mem_usage(leak_df)\n",
    "#leak_df[\"timestamp\"] = pd.to_datetime(leak_df[\"timestamp\"])\n",
    "#leak_df.loc[leak_df[\"meter_reading\"] < 0, 'meter_reading'] = 0\n",
    "#leak_df = leak_df[leak_df.timestamp.dt.year > 2016]\n",
    "#leak_df.drop(['Unnamed: 0',\"row_id\"],axis=1,inplace=True)\n",
    "#df_train = pd.concat([df_train, leak_df])\n",
    "#del leak_df\n",
    "#weather_test = feather.read_dataframe(directory+'/weather_test.feather')\n",
    "#weather_train = pd.concat([weather_train,weather_test])\n",
    "#del weather_test\n",
    "#gc.collect()"
   ]
  },
  {
   "cell_type": "code",
   "execution_count": 7,
   "metadata": {},
   "outputs": [
    {
     "name": "stdout",
     "output_type": "stream",
     "text": [
      "df_train_shape : (19852320, 4)\n"
     ]
    }
   ],
   "source": [
    "#remove outliers\n",
    "df_train = df_train [df_train['building_id'] != 1099 ]\n",
    "df_train= df_train.query('not (building_id <= 104 & meter == 0 & timestamp <= \"2016-05-20\")')\n",
    "print('df_train_shape :' , df_train.shape)"
   ]
  },
  {
   "cell_type": "code",
   "execution_count": 8,
   "metadata": {},
   "outputs": [],
   "source": [
    "zone_dict={0:4,1:0,2:7,3:4,4:7,5:0,6:4,7:4,8:4,9:5,10:7,11:4,12:0,13:5,14:4,15:4} \n",
    "\n",
    "def set_localtime(df):\n",
    "    for sid, zone in zone_dict.items():\n",
    "        sids = df.site_id == sid\n",
    "        df.loc[sids, 'timestamp'] = df[sids].timestamp - pd.offsets.Hour(zone)"
   ]
  },
  {
   "cell_type": "code",
   "execution_count": 9,
   "metadata": {},
   "outputs": [],
   "source": [
    "#building_meta_data\n",
    "building_metadata.drop([\"leed\",\"eui\"],axis=1,inplace=True)"
   ]
  },
  {
   "cell_type": "code",
   "execution_count": 10,
   "metadata": {},
   "outputs": [],
   "source": [
    "def fill_weather_dataset(weather_df):\n",
    "    weather_df[\"timestamp\"]=weather_df[\"timestamp\"].astype(str)\n",
    "    # Find Missing Dates\n",
    "    time_format = \"%Y-%m-%d %H:%M:%S\"\n",
    "    start_date = datetime.datetime.strptime(weather_df['timestamp'].min(),time_format)\n",
    "    end_date = datetime.datetime.strptime(weather_df['timestamp'].max(),time_format)\n",
    "    total_hours = int(((end_date - start_date).total_seconds() + 3600) / 3600)\n",
    "    hours_list = [(end_date - datetime.timedelta(hours=x)).strftime(time_format) for x in range(total_hours)]\n",
    "\n",
    "    missing_hours = []\n",
    "    for site_id in range(16):\n",
    "        site_hours = np.array(weather_df[weather_df['site_id'] == site_id]['timestamp'])\n",
    "        new_rows = pd.DataFrame(np.setdiff1d(hours_list,site_hours),columns=['timestamp'])\n",
    "        new_rows['site_id'] = site_id\n",
    "        weather_df = pd.concat([weather_df,new_rows])\n",
    "\n",
    "        weather_df = weather_df.reset_index(drop=True)           \n",
    "\n",
    "    # Add new Features\n",
    "    weather_df[\"datetime\"] = pd.to_datetime(weather_df[\"timestamp\"])\n",
    "    weather_df[\"day\"] = weather_df[\"datetime\"].dt.day\n",
    "    weather_df[\"week\"] = weather_df[\"datetime\"].dt.week\n",
    "    weather_df[\"month\"] = weather_df[\"datetime\"].dt.month\n",
    "    \n",
    "    # Reset Index for Fast Update\n",
    "    weather_df = weather_df.set_index(['site_id','day','month'])\n",
    "\n",
    "    air_temperature_filler = pd.DataFrame(weather_df.groupby(['site_id','day','month'])['air_temperature'].mean(),columns=[\"air_temperature\"])\n",
    "    weather_df.update(air_temperature_filler,overwrite=False)\n",
    "\n",
    "    # Step 1\n",
    "    cloud_coverage_filler = weather_df.groupby(['site_id','day','month'])['cloud_coverage'].mean()\n",
    "    # Step 2\n",
    "    cloud_coverage_filler = pd.DataFrame(cloud_coverage_filler.fillna(method='ffill'),columns=[\"cloud_coverage\"])\n",
    "\n",
    "    weather_df.update(cloud_coverage_filler,overwrite=False)\n",
    "\n",
    "    due_temperature_filler = pd.DataFrame(weather_df.groupby(['site_id','day','month'])['dew_temperature'].mean(),columns=[\"dew_temperature\"])\n",
    "    weather_df.update(due_temperature_filler,overwrite=False)\n",
    "\n",
    "    # Step 1\n",
    "    precip_depth_filler = weather_df.groupby(['site_id','day','month'])['precip_depth_1_hr'].mean()\n",
    "    # Step 2\n",
    "    precip_depth_filler = pd.DataFrame(precip_depth_filler.fillna(method='ffill'),columns=['precip_depth_1_hr'])\n",
    "\n",
    "    weather_df.update(precip_depth_filler,overwrite=False)\n",
    "\n",
    "    weather_df = weather_df.reset_index()\n",
    "    weather_df = weather_df.drop(['datetime','day','week','month'],axis=1)\n",
    "    weather_df[\"timestamp\"] = pd.to_datetime(weather_df[\"timestamp\"])\n",
    "    \n",
    "    return weather_df"
   ]
  },
  {
   "cell_type": "code",
   "execution_count": 11,
   "metadata": {},
   "outputs": [
    {
     "name": "stderr",
     "output_type": "stream",
     "text": [
      "/opt/conda/lib/python3.6/site-packages/ipykernel_launcher.py:15: FutureWarning: Sorting because non-concatenation axis is not aligned. A future version\n",
      "of pandas will change to not sort by default.\n",
      "\n",
      "To accept the future behavior, pass 'sort=False'.\n",
      "\n",
      "To retain the current behavior and silence the warning, pass 'sort=True'.\n",
      "\n",
      "  from ipykernel import kernelapp as app\n"
     ]
    }
   ],
   "source": [
    "#weather\n",
    "weather_train=fill_weather_dataset(weather_train)\n",
    "#mean=(weather_train[\"air_temperature\"]-weather_train[\"dew_temperature\"]).mean()\n",
    "#weather_train[\"air_temperature\"]=weather_train[\"air_temperature\"].fillna(weather_train[\"dew_temperature\"]+mean)\n",
    "#weather_train[\"dew_temperature\"]=weather_train[\"dew_temperature\"].fillna(weather_train[\"air_temperature\"]-mean)\n",
    "weather_train[\"air_yesterday\"]=weather_train[\"air_temperature\"]-weather_train[\"air_temperature\"].shift(24)"
   ]
  },
  {
   "cell_type": "code",
   "execution_count": 12,
   "metadata": {},
   "outputs": [
    {
     "name": "stdout",
     "output_type": "stream",
     "text": [
      "df_train_merge shape:  (19852320, 17)\n"
     ]
    }
   ],
   "source": [
    "#weather_train = weather_train.groupby('site_id').apply(lambda group:group.interpolate(limit_direction='both'))\n",
    "df_train = df_train.merge(building_metadata, on='building_id', how='left')\n",
    "df_train = df_train.merge(weather_train, on=['site_id', 'timestamp'], how='left')\n",
    "del weather_train\n",
    "gc.collect()\n",
    "\n",
    "print('df_train_merge shape: ',df_train.shape)"
   ]
  },
  {
   "cell_type": "markdown",
   "metadata": {},
   "source": [
    "# feature engneering"
   ]
  },
  {
   "cell_type": "code",
   "execution_count": 13,
   "metadata": {},
   "outputs": [],
   "source": [
    "unimportant_col=['sea_level_pressure','wind_direction','wind_speed']\n",
    "#target_col = [\"meter_building_hour\"]\n",
    "holidays =[\"2016-01-01\",\"2016-01-18\",\"2016-02-15\",\"2016-05-30\",\"2016-07-04\",\n",
    "           \"2016-09-05\",\"2016-10-10\",\"2016-11-11\",\"2016-11-24\",\"2016-12-26\",\n",
    "           \"2017-01-02\",\"2017-01-16\",\"2017-02-20\",\"2017-05-29\",\"2017-07-04\",\n",
    "           \"2017-09-04\",\"2017-10-09\",\"2017-11-10\",\"2017-11-23\",\"2017-12-25\",\n",
    "           \"2018-01-01\",\"2018-01-15\",\"2018-02-19\",\"2018-05-28\",\"2018-07-04\",\n",
    "           \"2018-09-03\",\"2018-10-08\",\"2018-11-12\",\"2018-11-22\",\"2018-12-25\",\n",
    "           \"2019-01-01\"]\n",
    "\n",
    "def preprocess(df,train=False):\n",
    "    #time variable\n",
    "    df[\"timestamp\"] = pd.to_datetime(df[\"timestamp\"])\n",
    "    df[\"hour\"] = df[\"timestamp\"].dt.hour\n",
    "    df[\"weekend\"] =df[\"timestamp\"].dt.weekday\n",
    "    df[\"month\"] = df[\"timestamp\"].dt.month\n",
    "    df['holiday'] = (df['timestamp'].dt.date.astype('datetime64')\n",
    "                              .isin(holidays)).astype(np.int8)\n",
    "    df[\"dayoff\"]=df[\"weekend\"]\n",
    "    df[\"dayoff\"].replace((1,2,3,4,5),0,inplace=True)\n",
    "    df[\"dayoff\"]=df[\"dayoff\"]+df[\"holiday\"]\n",
    "    df[\"dayoff\"].replace((6,7,8),1,inplace=True)\n",
    "    #hour_rad = df[\"hour\"].values / 24. * 2 * np.pi\n",
    "    #df[\"hour_sin\"] = np.sin(hour_rad)\n",
    "    #df[\"hour_cos\"] = np.cos(hour_rad)\n",
    "    \n",
    "    #drop col\n",
    "    df.drop(unimportant_col,axis=1,inplace=True)\n",
    "    \n",
    "    del df[\"timestamp\"]\n",
    "    #other feature\n",
    "    df[\"age\"]=df[\"year_built\"].max() - df['year_built'] + 1\n",
    "    df['year_built'] = df['year_built']-1900\n",
    "    #df['year_built'] = df['year_built'].fillna(2018)\n",
    "    df[\"rank_feet\"]=pd.cut(df[\"square_feet\"],10,labels=False)\n",
    "    df['square_feet'] = np.log1p(df['square_feet'])\n",
    "    df['air_dew'] = df['dew_temperature']*df['air_temperature']//100\n",
    "    df[\"hour_primary\"]=(df[\"hour\"]*100)+df[\"primary_use\"]\n",
    "    df[\"feet_primary\"]=(df[\"primary_use\"]*10)+df[\"rank_feet\"]\n",
    "    df[\"meter_building\"]=df[\"meter\"]+(df[\"building_id\"]*10) \n",
    "    df[\"meter_primary\"]=df[\"meter\"]+(df[\"primary_use\"]*10)\n",
    "    df[\"meter_hour\"]=df[\"meter\"]+(df[\"hour\"]*10)\n",
    "    df[\"meter_building_hour\"] = (df[\"meter_hour\"]*10)+df[\"meter\"]\n",
    "    #target_encording\n",
    "    #print(\"Target encording start...\")\n",
    "    if train:\n",
    "        df['group'] = df['month']\n",
    "        df['group'].replace((1,2,3,4), 1,inplace=True)\n",
    "        df['group'].replace((5,6,7,8), 2,inplace=True)    \n",
    "        df['group'].replace((9,10,11,12), 3,inplace=True)  \n",
    "        kf = GroupKFold(n_splits=3)\n",
    "    #    for c in target_col:\n",
    "    #        data_temp=pd.DataFrame({c:df[c],\"meter_reading\":df[\"meter_reading\"]})\n",
    "    #        temp=np.repeat(np.nan,df.shape[0])\n",
    "    #        #学習データからバリデーションデータを分ける\n",
    "    #        for i, (tr_idx,va_idx) in enumerate(kf.split(df,groups=df['group'])):\n",
    "    #            #学習データ全体で各カテゴリにおけるtargetの平均を計算\n",
    "    #            target_mean=data_temp.iloc[tr_idx].groupby(c)[\"meter_reading\"].mean()\n",
    "    #            #バリデーションデータについて変換後の値を一時的に格納\n",
    "    #            temp[va_idx]=df[c].iloc[va_idx].map(target_mean)\n",
    "    #        df[c]=temp\n",
    "    #    del temp\n",
    "    #else:\n",
    "    #    for c in target_col:\n",
    "    #        data_temp=pd.DataFrame({c:df_train[c],\"meter_reading\":df_train[\"meter_reading\"]})\n",
    "    #        df[c]=df[c].map(data_temp.groupby(c)[\"meter_reading\"].mean())\n",
    "    #del data_temp\n",
    "    #gc.collect()\n",
    "    #print(\"Target encoding finish.\")\n",
    "    \n",
    "    #country\n",
    "    #df[\"country\"]= df[\"site_id\"]\n",
    "    #df['country'].replace((0,2,3,4,6,8,9,10,13,14,15), 0,inplace=True)#america\n",
    "    #df['country'].replace((1,5), 1, inplace=True)#England\n",
    "    #df['country'].replace((7,11),2,inplace=True)#Canada\n",
    "    #df['country'].replace((12),3,inplace=True)#Ireland"
   ]
  },
  {
   "cell_type": "code",
   "execution_count": 14,
   "metadata": {},
   "outputs": [
    {
     "name": "stdout",
     "output_type": "stream",
     "text": [
      "Memory usage of dataframe is 1438.88 MB\n",
      "Memory usage after optimization is: 927.70 MB\n",
      "Decreased by 35.5%\n",
      "Memory usage of dataframe is 2442.31 MB\n",
      "Memory usage after optimization is: 984.50 MB\n",
      "Decreased by 59.7%\n"
     ]
    },
    {
     "data": {
      "text/plain": [
       "Index(['building_id', 'meter', 'meter_reading', 'site_id', 'primary_use',\n",
       "       'square_feet', 'year_built', 'floor_count', 'air_temperature',\n",
       "       'cloud_coverage', 'dew_temperature', 'precip_depth_1_hr',\n",
       "       'air_yesterday', 'hour', 'weekend', 'month', 'holiday', 'dayoff', 'age',\n",
       "       'rank_feet', 'air_dew', 'hour_primary', 'feet_primary',\n",
       "       'meter_building', 'meter_primary', 'meter_hour', 'meter_building_hour',\n",
       "       'group'],\n",
       "      dtype='object')"
      ]
     },
     "execution_count": 14,
     "metadata": {},
     "output_type": "execute_result"
    }
   ],
   "source": [
    "#labelencoder\n",
    "lr=LabelEncoder()\n",
    "df_train[\"primary_use\"]=lr.fit_transform(df_train[\"primary_use\"])\n",
    "df_train = reduce_mem_usage(df_train,use_float16=True)\n",
    "df_train['meter_reading'] = np.log1p(df_train['meter_reading'])\n",
    "set_localtime(df_train)\n",
    "preprocess(df_train,train=True)\n",
    "df_train= reduce_mem_usage(df_train,use_float16=True)\n",
    "gc.collect()\n",
    "df_train.columns"
   ]
  },
  {
   "cell_type": "markdown",
   "metadata": {},
   "source": [
    "> # Model"
   ]
  },
  {
   "cell_type": "code",
   "execution_count": 15,
   "metadata": {},
   "outputs": [],
   "source": [
    "category = ['hour','meter','weekend','site_id','primary_use','building_id',\"dayoff\",\n",
    "            \"meter_hour\",\"meter_building\",\"meter_primary\",\"hour_primary\",\"rank_feet\",\n",
    "            \"feet_primary\",\"meter_building_hour\"]\n",
    "for col in category :\n",
    "    df_train[col] = df_train[col].astype('category')\n",
    "features = [col for col in df_train.columns if col not in ['meter_reading', 'month', 'group']]\n",
    "target = 'meter_reading'"
   ]
  },
  {
   "cell_type": "code",
   "execution_count": 16,
   "metadata": {},
   "outputs": [
    {
     "name": "stdout",
     "output_type": "stream",
     "text": [
      "Light GBM Model\n",
      "fold :  0\n"
     ]
    },
    {
     "name": "stderr",
     "output_type": "stream",
     "text": [
      "/opt/conda/lib/python3.6/site-packages/lightgbm/basic.py:762: UserWarning: categorical_feature in param dict is overridden.\n",
      "  warnings.warn('categorical_feature in param dict is overridden.')\n"
     ]
    },
    {
     "name": "stdout",
     "output_type": "stream",
     "text": [
      "Training until validation scores don't improve for 50 rounds.\n",
      "[50]\ttraining's rmse: 0.865101\tvalid_1's rmse: 1.14424\n",
      "[100]\ttraining's rmse: 0.7583\tvalid_1's rmse: 1.13552\n",
      "Early stopping, best iteration is:\n",
      "[79]\ttraining's rmse: 0.789321\tvalid_1's rmse: 1.13286\n",
      "fold :  1\n",
      "Training until validation scores don't improve for 50 rounds.\n",
      "[50]\ttraining's rmse: 0.922228\tvalid_1's rmse: 1.08429\n",
      "[100]\ttraining's rmse: 0.830271\tvalid_1's rmse: 1.03768\n",
      "[150]\ttraining's rmse: 0.786838\tvalid_1's rmse: 1.03006\n",
      "[200]\ttraining's rmse: 0.763977\tvalid_1's rmse: 1.02859\n",
      "[250]\ttraining's rmse: 0.745198\tvalid_1's rmse: 1.02868\n",
      "Early stopping, best iteration is:\n",
      "[207]\ttraining's rmse: 0.761484\tvalid_1's rmse: 1.02832\n",
      "fold :  2\n",
      "Training until validation scores don't improve for 50 rounds.\n",
      "[50]\ttraining's rmse: 0.910891\tvalid_1's rmse: 1.12806\n",
      "[100]\ttraining's rmse: 0.813144\tvalid_1's rmse: 1.10128\n",
      "[150]\ttraining's rmse: 0.768355\tvalid_1's rmse: 1.10333\n",
      "Early stopping, best iteration is:\n",
      "[120]\ttraining's rmse: 0.792836\tvalid_1's rmse: 1.1005\n",
      "oof_RMSE :  1.087704507038615\n",
      "CPU times: user 2h 53min 8s, sys: 1min 58s, total: 2h 55min 6s\n",
      "Wall time: 45min 53s\n"
     ]
    },
    {
     "data": {
      "text/plain": [
       "0"
      ]
     },
     "execution_count": 16,
     "metadata": {},
     "output_type": "execute_result"
    }
   ],
   "source": [
    "%%time\n",
    "NFOLDS = 3\n",
    "kf = GroupKFold(n_splits=NFOLDS)\n",
    "models = []\n",
    "oof = np.zeros(len(df_train))\n",
    "print('Light GBM Model')\n",
    "params={\"objective\": \"regression\",\n",
    "        \"boosting\": \"gbdt\",\n",
    "        \"reg_alpha\": 2,\n",
    "        \"reg_lambda\": 2,\n",
    "        \"num_leaves\": 1280,#=max_leaves\n",
    "        #'bagging_fraction': 0.81,\n",
    "        \"learning_rate\": 0.05,\n",
    "        \"feature_fraction\": 0.40,#=colsample_bytree\n",
    "        \"metric\": \"rmse\"}\n",
    "\n",
    "for fold_, (trn_idx, val_idx)  in enumerate(kf.split(df_train, df_train[target], groups=df_train['group'])):\n",
    "        tr_x, tr_y = df_train[features].iloc[trn_idx], df_train[target][trn_idx]\n",
    "        vl_x, vl_y = df_train[features].iloc[val_idx], df_train[target][val_idx]\n",
    "        #print({'train size':len(tr_x), 'eval size':len(vl_x)})\n",
    "        print('fold : ',fold_)\n",
    "        lgb_train = lgb.Dataset(tr_x, tr_y)\n",
    "        lgb_eval = lgb.Dataset(vl_x, vl_y, reference=lgb_train)\n",
    "        reg = lgb.train(params, lgb_train, num_boost_round=1000, valid_sets=[lgb_train,lgb_eval],\n",
    "                       early_stopping_rounds=50,verbose_eval=50)\n",
    "        oof[val_idx] = reg.predict(df_train.iloc[val_idx][features])\n",
    "        models.append(reg)\n",
    "        gc.collect()\n",
    "\n",
    "print('oof_RMSE : ' ,np.sqrt(mean_squared_error(oof, df_train['meter_reading'])))\n",
    "del df_train\n",
    "gc.collect()"
   ]
  },
  {
   "cell_type": "markdown",
   "metadata": {},
   "source": [
    "> # Predict"
   ]
  },
  {
   "cell_type": "code",
   "execution_count": 17,
   "metadata": {},
   "outputs": [
    {
     "name": "stderr",
     "output_type": "stream",
     "text": [
      "/opt/conda/lib/python3.6/site-packages/pyarrow/pandas_compat.py:751: FutureWarning: .labels was deprecated in version 0.24.0. Use .codes instead.\n",
      "  labels, = index.labels\n"
     ]
    }
   ],
   "source": [
    "df_test = feather.read_dataframe(directory+'/test.feather')\n",
    "weather_test = feather.read_dataframe(directory+'/weather_test.feather')\n",
    "\n",
    "#print('df_test_shape :' , df_test.shape)\n",
    "#print('weather_test_shape :' , weather_test.shape)"
   ]
  },
  {
   "cell_type": "code",
   "execution_count": 18,
   "metadata": {},
   "outputs": [
    {
     "name": "stderr",
     "output_type": "stream",
     "text": [
      "/opt/conda/lib/python3.6/site-packages/ipykernel_launcher.py:15: FutureWarning: Sorting because non-concatenation axis is not aligned. A future version\n",
      "of pandas will change to not sort by default.\n",
      "\n",
      "To accept the future behavior, pass 'sort=False'.\n",
      "\n",
      "To retain the current behavior and silence the warning, pass 'sort=True'.\n",
      "\n",
      "  from ipykernel import kernelapp as app\n"
     ]
    }
   ],
   "source": [
    "#weather\n",
    "weather_test=fill_weather_dataset(weather_test)\n",
    "#mean=(weather_test[\"air_temperature\"]-weather_test[\"dew_temperature\"]).mean()\n",
    "#weather_test[\"air_temperature\"]=weather_test[\"air_temperature\"].fillna(weather_test[\"dew_temperature\"]+mean)\n",
    "#weather_test[\"dew_temperature\"]=weather_test[\"dew_temperature\"].fillna(weather_test[\"air_temperature\"]-mean)\n",
    "weather_test[\"air_yesterday\"]=weather_test[\"air_temperature\"]-weather_test[\"air_temperature\"].shift(24)"
   ]
  },
  {
   "cell_type": "code",
   "execution_count": 19,
   "metadata": {},
   "outputs": [
    {
     "data": {
      "text/plain": [
       "0"
      ]
     },
     "execution_count": 19,
     "metadata": {},
     "output_type": "execute_result"
    }
   ],
   "source": [
    "#weather_test = weather_test.groupby('site_id').apply(lambda group:group.interpolate(limit_direction='both'))\n",
    "df_test = df_test.merge(building_metadata, on='building_id', how='left')\n",
    "df_test = df_test.merge(weather_test, on=['site_id', 'timestamp'], how='left')\n",
    "del weather_test\n",
    "del building_metadata\n",
    "gc.collect()"
   ]
  },
  {
   "cell_type": "code",
   "execution_count": 20,
   "metadata": {},
   "outputs": [
    {
     "name": "stdout",
     "output_type": "stream",
     "text": [
      "Memory usage of dataframe is 3022.21 MB\n",
      "Memory usage after optimization is: 1948.53 MB\n",
      "Decreased by 35.5%\n",
      "Memory usage of dataframe is 4811.68 MB\n",
      "Memory usage after optimization is: 2107.59 MB\n",
      "Decreased by 56.2%\n",
      "df_test_merge shape:  (41697600, 27)\n",
      "df_test columns:  Index(['row_id', 'building_id', 'meter', 'site_id', 'primary_use',\n",
      "       'square_feet', 'year_built', 'floor_count', 'air_temperature',\n",
      "       'cloud_coverage', 'dew_temperature', 'precip_depth_1_hr',\n",
      "       'air_yesterday', 'hour', 'weekend', 'month', 'holiday', 'dayoff', 'age',\n",
      "       'rank_feet', 'air_dew', 'hour_primary', 'feet_primary',\n",
      "       'meter_building', 'meter_primary', 'meter_hour', 'meter_building_hour'],\n",
      "      dtype='object')\n"
     ]
    }
   ],
   "source": [
    "#labelencoder\n",
    "df_test[\"primary_use\"]=lr.transform(df_test[\"primary_use\"])\n",
    "df_test = reduce_mem_usage(df_test,use_float16=True)\n",
    "set_localtime(df_test)\n",
    "preprocess(df_test)\n",
    "df_test = reduce_mem_usage(df_test,use_float16=True)\n",
    "print('df_test_merge shape: ',df_test.shape)\n",
    "print(\"df_test columns: \",df_test.columns)"
   ]
  },
  {
   "cell_type": "code",
   "execution_count": 21,
   "metadata": {},
   "outputs": [],
   "source": [
    "for col in category :\n",
    "    df_test[col] = df_test[col].astype('category')\n",
    "    \n",
    "features = [col for col in df_test.columns if col not in ['month', 'row_id']]"
   ]
  },
  {
   "cell_type": "code",
   "execution_count": 22,
   "metadata": {},
   "outputs": [
    {
     "name": "stdout",
     "output_type": "stream",
     "text": [
      "41697600 50 833952\n"
     ]
    }
   ],
   "source": [
    "set_size = len(df_test)\n",
    "iterations = 50\n",
    "batch_size = set_size // iterations\n",
    "\n",
    "print(set_size, iterations, batch_size)\n",
    "assert set_size == iterations * batch_size"
   ]
  },
  {
   "cell_type": "code",
   "execution_count": 23,
   "metadata": {},
   "outputs": [
    {
     "data": {
      "application/vnd.jupyter.widget-view+json": {
       "model_id": "5f497c8cc0424577b604ea5bd574e93c",
       "version_major": 2,
       "version_minor": 0
      },
      "text/plain": [
       "HBox(children=(IntProgress(value=0, max=50), HTML(value='')))"
      ]
     },
     "metadata": {},
     "output_type": "display_data"
    },
    {
     "name": "stdout",
     "output_type": "stream",
     "text": [
      "\n",
      "41697600\n",
      "CPU times: user 3h 21min 31s, sys: 9min 40s, total: 3h 31min 12s\n",
      "Wall time: 58min 22s\n"
     ]
    },
    {
     "data": {
      "text/plain": [
       "75"
      ]
     },
     "execution_count": 23,
     "metadata": {},
     "output_type": "execute_result"
    }
   ],
   "source": [
    "%%time\n",
    "meter_reading = []\n",
    "for i in tqdm_notebook(range(iterations)):\n",
    "    pos = i*batch_size\n",
    "    fold_preds = [np.expm1(model.predict(df_test[features].iloc[pos : pos+batch_size],num_iteration=model.best_iteration)) for model in models]\n",
    "    meter_reading.extend(np.mean(fold_preds, axis=0))\n",
    "\n",
    "print(len(meter_reading))\n",
    "assert len(meter_reading) == set_size\n",
    "del df_test\n",
    "gc.collect()"
   ]
  },
  {
   "cell_type": "code",
   "execution_count": 24,
   "metadata": {},
   "outputs": [
    {
     "name": "stderr",
     "output_type": "stream",
     "text": [
      "/opt/conda/lib/python3.6/site-packages/pyarrow/pandas_compat.py:751: FutureWarning: .labels was deprecated in version 0.24.0. Use .codes instead.\n",
      "  labels, = index.labels\n"
     ]
    },
    {
     "data": {
      "text/html": [
       "<div>\n",
       "<style scoped>\n",
       "    .dataframe tbody tr th:only-of-type {\n",
       "        vertical-align: middle;\n",
       "    }\n",
       "\n",
       "    .dataframe tbody tr th {\n",
       "        vertical-align: top;\n",
       "    }\n",
       "\n",
       "    .dataframe thead th {\n",
       "        text-align: right;\n",
       "    }\n",
       "</style>\n",
       "<table border=\"1\" class=\"dataframe\">\n",
       "  <thead>\n",
       "    <tr style=\"text-align: right;\">\n",
       "      <th></th>\n",
       "      <th>row_id</th>\n",
       "      <th>meter_reading</th>\n",
       "    </tr>\n",
       "  </thead>\n",
       "  <tbody>\n",
       "    <tr>\n",
       "      <td>0</td>\n",
       "      <td>0</td>\n",
       "      <td>126.910072</td>\n",
       "    </tr>\n",
       "    <tr>\n",
       "      <td>1</td>\n",
       "      <td>1</td>\n",
       "      <td>73.761819</td>\n",
       "    </tr>\n",
       "    <tr>\n",
       "      <td>2</td>\n",
       "      <td>2</td>\n",
       "      <td>12.719624</td>\n",
       "    </tr>\n",
       "    <tr>\n",
       "      <td>3</td>\n",
       "      <td>3</td>\n",
       "      <td>270.849016</td>\n",
       "    </tr>\n",
       "    <tr>\n",
       "      <td>4</td>\n",
       "      <td>4</td>\n",
       "      <td>1076.998351</td>\n",
       "    </tr>\n",
       "    <tr>\n",
       "      <td>5</td>\n",
       "      <td>5</td>\n",
       "      <td>16.293044</td>\n",
       "    </tr>\n",
       "    <tr>\n",
       "      <td>6</td>\n",
       "      <td>6</td>\n",
       "      <td>108.965553</td>\n",
       "    </tr>\n",
       "    <tr>\n",
       "      <td>7</td>\n",
       "      <td>7</td>\n",
       "      <td>417.271188</td>\n",
       "    </tr>\n",
       "    <tr>\n",
       "      <td>8</td>\n",
       "      <td>8</td>\n",
       "      <td>341.326397</td>\n",
       "    </tr>\n",
       "    <tr>\n",
       "      <td>9</td>\n",
       "      <td>9</td>\n",
       "      <td>314.560559</td>\n",
       "    </tr>\n",
       "  </tbody>\n",
       "</table>\n",
       "</div>"
      ],
      "text/plain": [
       "   row_id  meter_reading\n",
       "0       0     126.910072\n",
       "1       1      73.761819\n",
       "2       2      12.719624\n",
       "3       3     270.849016\n",
       "4       4    1076.998351\n",
       "5       5      16.293044\n",
       "6       6     108.965553\n",
       "7       7     417.271188\n",
       "8       8     341.326397\n",
       "9       9     314.560559"
      ]
     },
     "execution_count": 24,
     "metadata": {},
     "output_type": "execute_result"
    }
   ],
   "source": [
    "sample_submission = feather.read_dataframe(directory+'/sample_submission.feather')\n",
    "sample_submission['meter_reading'] = np.clip(meter_reading, a_min=0, a_max=None) # clip min at zero\n",
    "sample_submission.to_csv('submission.csv', index=False)\n",
    "sample_submission.head(10)"
   ]
  },
  {
   "cell_type": "code",
   "execution_count": 25,
   "metadata": {},
   "outputs": [],
   "source": [
    "def plot_feature_importance(model):\n",
    "    importance_df = pd.DataFrame(model.feature_importance(),\n",
    "                                 index=features,\n",
    "                                 columns=['importance']).sort_values('importance')\n",
    "    fig, ax = plt.subplots(figsize=(8, 8))\n",
    "    importance_df.plot.barh(ax=ax)\n",
    "    fig.show()"
   ]
  },
  {
   "cell_type": "code",
   "execution_count": 26,
   "metadata": {},
   "outputs": [
    {
     "data": {
      "text/plain": [
       "<seaborn.axisgrid.JointGrid at 0x7f2bb8297860>"
      ]
     },
     "execution_count": 26,
     "metadata": {},
     "output_type": "execute_result"
    },
    {
     "data": {
      "image/png": "[encoded data removed]",
      "text/plain": [
       "<Figure size 432x432 with 3 Axes>"
      ]
     },
     "metadata": {
      "needs_background": "light"
     },
     "output_type": "display_data"
    }
   ],
   "source": [
    "sns.jointplot(\"row_id\",\"meter_reading\",data=sample_submission)"
   ]
  },
  {
   "cell_type": "code",
   "execution_count": 27,
   "metadata": {},
   "outputs": [
    {
     "data": {
      "text/plain": [
       "<matplotlib.axes._subplots.AxesSubplot at 0x7f2b8c507e10>"
      ]
     },
     "execution_count": 27,
     "metadata": {},
     "output_type": "execute_result"
    },
    {
     "data": {
      "image/png": "[encoded data removed]",
      "text/plain": [
       "<Figure size 1080x360 with 1 Axes>"
      ]
     },
     "metadata": {
      "needs_background": "light"
     },
     "output_type": "display_data"
    }
   ],
   "source": [
    "plt.figure(figsize = (15,5))\n",
    "sample_submission['meter_reading'].plot()"
   ]
  },
  {
   "cell_type": "code",
   "execution_count": 28,
   "metadata": {},
   "outputs": [
    {
     "data": {
      "image/png": "[encoded data removed]",
      "text/plain": [
       "<Figure size 576x576 with 1 Axes>"
      ]
     },
     "metadata": {
      "needs_background": "light"
     },
     "output_type": "display_data"
    }
   ],
   "source": [
    "plot_feature_importance(models[0])"
   ]
  },
  {
   "cell_type": "code",
   "execution_count": 29,
   "metadata": {},
   "outputs": [
    {
     "data": {
      "image/png": "[encoded data removed]",
      "text/plain": [
       "<Figure size 576x576 with 1 Axes>"
      ]
     },
     "metadata": {
      "needs_background": "light"
     },
     "output_type": "display_data"
    }
   ],
   "source": [
    "plot_feature_importance(models[1])"
   ]
  },
  {
   "cell_type": "code",
   "execution_count": 30,
   "metadata": {},
   "outputs": [
    {
     "name": "stdout",
     "output_type": "stream",
     "text": [
      "CPU times: user 36min 56s, sys: 5.95 s, total: 37min 2s\n",
      "Wall time: 37min 1s\n"
     ]
    },
    {
     "data": {
      "text/html": [
       "<div>\n",
       "<style scoped>\n",
       "    .dataframe tbody tr th:only-of-type {\n",
       "        vertical-align: middle;\n",
       "    }\n",
       "\n",
       "    .dataframe tbody tr th {\n",
       "        vertical-align: top;\n",
       "    }\n",
       "\n",
       "    .dataframe thead th {\n",
       "        text-align: right;\n",
       "    }\n",
       "</style>\n",
       "<table border=\"1\" class=\"dataframe\">\n",
       "  <thead>\n",
       "    <tr style=\"text-align: right;\">\n",
       "      <th></th>\n",
       "      <th>row_id</th>\n",
       "      <th>meter_reading</th>\n",
       "    </tr>\n",
       "  </thead>\n",
       "  <tbody>\n",
       "    <tr>\n",
       "      <td>0</td>\n",
       "      <td>0</td>\n",
       "      <td>173.370300</td>\n",
       "    </tr>\n",
       "    <tr>\n",
       "      <td>1</td>\n",
       "      <td>1</td>\n",
       "      <td>53.512700</td>\n",
       "    </tr>\n",
       "    <tr>\n",
       "      <td>2</td>\n",
       "      <td>2</td>\n",
       "      <td>6.143000</td>\n",
       "    </tr>\n",
       "    <tr>\n",
       "      <td>3</td>\n",
       "      <td>3</td>\n",
       "      <td>101.701500</td>\n",
       "    </tr>\n",
       "    <tr>\n",
       "      <td>4</td>\n",
       "      <td>4</td>\n",
       "      <td>1141.240700</td>\n",
       "    </tr>\n",
       "    <tr>\n",
       "      <td>...</td>\n",
       "      <td>...</td>\n",
       "      <td>...</td>\n",
       "    </tr>\n",
       "    <tr>\n",
       "      <td>41697595</td>\n",
       "      <td>41697595</td>\n",
       "      <td>6.608020</td>\n",
       "    </tr>\n",
       "    <tr>\n",
       "      <td>41697596</td>\n",
       "      <td>41697596</td>\n",
       "      <td>4.828550</td>\n",
       "    </tr>\n",
       "    <tr>\n",
       "      <td>41697597</td>\n",
       "      <td>41697597</td>\n",
       "      <td>3.924622</td>\n",
       "    </tr>\n",
       "    <tr>\n",
       "      <td>41697598</td>\n",
       "      <td>41697598</td>\n",
       "      <td>174.075007</td>\n",
       "    </tr>\n",
       "    <tr>\n",
       "      <td>41697599</td>\n",
       "      <td>41697599</td>\n",
       "      <td>3.915357</td>\n",
       "    </tr>\n",
       "  </tbody>\n",
       "</table>\n",
       "<p>41697600 rows × 2 columns</p>\n",
       "</div>"
      ],
      "text/plain": [
       "            row_id  meter_reading\n",
       "0                0     173.370300\n",
       "1                1      53.512700\n",
       "2                2       6.143000\n",
       "3                3     101.701500\n",
       "4                4    1141.240700\n",
       "...            ...            ...\n",
       "41697595  41697595       6.608020\n",
       "41697596  41697596       4.828550\n",
       "41697597  41697597       3.924622\n",
       "41697598  41697598     174.075007\n",
       "41697599  41697599       3.915357\n",
       "\n",
       "[41697600 rows x 2 columns]"
      ]
     },
     "execution_count": 30,
     "metadata": {},
     "output_type": "execute_result"
    }
   ],
   "source": [
    "%%time\n",
    "leak_sub = pd.read_csv(\"../input/ashrae-leak-data/submission_leak.csv\")\n",
    "for i in range(41697600):\n",
    "    if(leak_sub.at[i,\"meter_reading\"]!=0):\n",
    "        sample_submission.at[i,\"meter_reading\"]=leak_sub.at[i,\"meter_reading\"]\n",
    "del leak_sub\n",
    "gc.collect()\n",
    "\n",
    "sample_submission.to_csv('submission_leak_replaced.csv', index=False)\n",
    "sample_submission"
   ]
  },
  {
   "cell_type": "code",
   "execution_count": 31,
   "metadata": {},
   "outputs": [
    {
     "data": {
      "text/plain": [
       "<matplotlib.axes._subplots.AxesSubplot at 0x7f2b8c3c2828>"
      ]
     },
     "execution_count": 31,
     "metadata": {},
     "output_type": "execute_result"
    },
    {
     "data": {
      "image/png": "[encoded data removed]",
      "text/plain": [
       "<Figure size 1080x360 with 1 Axes>"
      ]
     },
     "metadata": {
      "needs_background": "light"
     },
     "output_type": "display_data"
    }
   ],
   "source": [
    "plt.figure(figsize = (15,5))\n",
    "sample_submission['meter_reading'].plot()"
   ]
  }
 ],
 "metadata": {
  "kernelspec": {
   "display_name": "Python 3",
   "language": "python",
   "name": "python3"
  },
  "language_info": {
   "codemirror_mode": {
    "name": "ipython",
    "version": 3
   },
   "file_extension": ".py",
   "mimetype": "text/x-python",
   "name": "python",
   "nbconvert_exporter": "python",
   "pygments_lexer": "ipython3",
   "version": "3.6.6"
  },
  "widgets": {
   "application/vnd.jupyter.widget-state+json": {
    "state": {
     "269a9c1335cd4c729598d19ba4d2e918": {
      "model_module": "@jupyter-widgets/controls",
      "model_module_version": "1.5.0",
      "model_name": "DescriptionStyleModel",
      "state": {
       "_model_module": "@jupyter-widgets/controls",
       "_model_module_version": "1.5.0",
       "_model_name": "DescriptionStyleModel",
       "_view_count": null,
       "_view_module": "@jupyter-widgets/base",
       "_view_module_version": "1.2.0",
       "_view_name": "StyleView",
       "description_width": ""
      }
     },
     "37796e3e279d4e3bb35bf4e2a03c4b9f": {
      "model_module": "@jupyter-widgets/base",
      "model_module_version": "1.2.0",
      "model_name": "LayoutModel",
      "state": {
       "_model_module": "@jupyter-widgets/base",
       "_model_module_version": "1.2.0",
       "_model_name": "LayoutModel",
       "_view_count": null,
       "_view_module": "@jupyter-widgets/base",
       "_view_module_version": "1.2.0",
       "_view_name": "LayoutView",
       "align_content": null,
       "align_items": null,
       "align_self": null,
       "border": null,
       "bottom": null,
       "display": null,
       "flex": null,
       "flex_flow": null,
       "grid_area": null,
       "grid_auto_columns": null,
       "grid_auto_flow": null,
       "grid_auto_rows": null,
       "grid_column": null,
       "grid_gap": null,
       "grid_row": null,
       "grid_template_areas": null,
       "grid_template_columns": null,
       "grid_template_rows": null,
       "height": null,
       "justify_content": null,
       "justify_items": null,
       "left": null,
       "margin": null,
       "max_height": null,
       "max_width": null,
       "min_height": null,
       "min_width": null,
       "object_fit": null,
       "object_position": null,
       "order": null,
       "overflow": null,
       "overflow_x": null,
       "overflow_y": null,
       "padding": null,
       "right": null,
       "top": null,
       "visibility": null,
       "width": null
      }
     },
     "3b46fd1ea4c642679104f4be0f07cc18": {
      "model_module": "@jupyter-widgets/base",
      "model_module_version": "1.2.0",
      "model_name": "LayoutModel",
      "state": {
       "_model_module": "@jupyter-widgets/base",
       "_model_module_version": "1.2.0",
       "_model_name": "LayoutModel",
       "_view_count": null,
       "_view_module": "@jupyter-widgets/base",
       "_view_module_version": "1.2.0",
       "_view_name": "LayoutView",
       "align_content": null,
       "align_items": null,
       "align_self": null,
       "border": null,
       "bottom": null,
       "display": null,
       "flex": null,
       "flex_flow": null,
       "grid_area": null,
       "grid_auto_columns": null,
       "grid_auto_flow": null,
       "grid_auto_rows": null,
       "grid_column": null,
       "grid_gap": null,
       "grid_row": null,
       "grid_template_areas": null,
       "grid_template_columns": null,
       "grid_template_rows": null,
       "height": null,
       "justify_content": null,
       "justify_items": null,
       "left": null,
       "margin": null,
       "max_height": null,
       "max_width": null,
       "min_height": null,
       "min_width": null,
       "object_fit": null,
       "object_position": null,
       "order": null,
       "overflow": null,
       "overflow_x": null,
       "overflow_y": null,
       "padding": null,
       "right": null,
       "top": null,
       "visibility": null,
       "width": null
      }
     },
     "3e2da42d4c9c4bb6a60e1d216f26ecc7": {
      "model_module": "@jupyter-widgets/controls",
      "model_module_version": "1.5.0",
      "model_name": "ProgressStyleModel",
      "state": {
       "_model_module": "@jupyter-widgets/controls",
       "_model_module_version": "1.5.0",
       "_model_name": "ProgressStyleModel",
       "_view_count": null,
       "_view_module": "@jupyter-widgets/base",
       "_view_module_version": "1.2.0",
       "_view_name": "StyleView",
       "bar_color": null,
       "description_width": "initial"
      }
     },
     "5f497c8cc0424577b604ea5bd574e93c": {
      "model_module": "@jupyter-widgets/controls",
      "model_module_version": "1.5.0",
      "model_name": "HBoxModel",
      "state": {
       "_dom_classes": [],
       "_model_module": "@jupyter-widgets/controls",
       "_model_module_version": "1.5.0",
       "_model_name": "HBoxModel",
       "_view_count": null,
       "_view_module": "@jupyter-widgets/controls",
       "_view_module_version": "1.5.0",
       "_view_name": "HBoxView",
       "box_style": "",
       "children": [
        "IPY_MODEL_f339bb9543994a77b8973f40aeaee4a8",
        "IPY_MODEL_72610caab33a459185ae52874e3a59ee"
       ],
       "layout": "IPY_MODEL_f3c7e0928347491384dfba547b98e385"
      }
     },
     "72610caab33a459185ae52874e3a59ee": {
      "model_module": "@jupyter-widgets/controls",
      "model_module_version": "1.5.0",
      "model_name": "HTMLModel",
      "state": {
       "_dom_classes": [],
       "_model_module": "@jupyter-widgets/controls",
       "_model_module_version": "1.5.0",
       "_model_name": "HTMLModel",
       "_view_count": null,
       "_view_module": "@jupyter-widgets/controls",
       "_view_module_version": "1.5.0",
       "_view_name": "HTMLView",
       "description": "",
       "description_tooltip": null,
       "layout": "IPY_MODEL_37796e3e279d4e3bb35bf4e2a03c4b9f",
       "placeholder": "​",
       "style": "IPY_MODEL_269a9c1335cd4c729598d19ba4d2e918",
       "value": " 50/50 [58:22&lt;00:00, 70.06s/it]"
      }
     },
     "f339bb9543994a77b8973f40aeaee4a8": {
      "model_module": "@jupyter-widgets/controls",
      "model_module_version": "1.5.0",
      "model_name": "IntProgressModel",
      "state": {
       "_dom_classes": [],
       "_model_module": "@jupyter-widgets/controls",
       "_model_module_version": "1.5.0",
       "_model_name": "IntProgressModel",
       "_view_count": null,
       "_view_module": "@jupyter-widgets/controls",
       "_view_module_version": "1.5.0",
       "_view_name": "ProgressView",
       "bar_style": "success",
       "description": "100%",
       "description_tooltip": null,
       "layout": "IPY_MODEL_3b46fd1ea4c642679104f4be0f07cc18",
       "max": 50,
       "min": 0,
       "orientation": "horizontal",
       "style": "IPY_MODEL_3e2da42d4c9c4bb6a60e1d216f26ecc7",
       "value": 50
      }
     },
     "f3c7e0928347491384dfba547b98e385": {
      "model_module": "@jupyter-widgets/base",
      "model_module_version": "1.2.0",
      "model_name": "LayoutModel",
      "state": {
       "_model_module": "@jupyter-widgets/base",
       "_model_module_version": "1.2.0",
       "_model_name": "LayoutModel",
       "_view_count": null,
       "_view_module": "@jupyter-widgets/base",
       "_view_module_version": "1.2.0",
       "_view_name": "LayoutView",
       "align_content": null,
       "align_items": null,
       "align_self": null,
       "border": null,
       "bottom": null,
       "display": null,
       "flex": null,
       "flex_flow": null,
       "grid_area": null,
       "grid_auto_columns": null,
       "grid_auto_flow": null,
       "grid_auto_rows": null,
       "grid_column": null,
       "grid_gap": null,
       "grid_row": null,
       "grid_template_areas": null,
       "grid_template_columns": null,
       "grid_template_rows": null,
       "height": null,
       "justify_content": null,
       "justify_items": null,
       "left": null,
       "margin": null,
       "max_height": null,
       "max_width": null,
       "min_height": null,
       "min_width": null,
       "object_fit": null,
       "object_position": null,
       "order": null,
       "overflow": null,
       "overflow_x": null,
       "overflow_y": null,
       "padding": null,
       "right": null,
       "top": null,
       "visibility": null,
       "width": null
      }
     }
    },
    "version_major": 2,
    "version_minor": 0
   }
  }
 },
 "nbformat": 4,
 "nbformat_minor": 1
}
